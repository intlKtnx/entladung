{
 "cells": [
  {
   "cell_type": "code",
   "execution_count": 1,
   "id": "76a179b5",
   "metadata": {},
   "outputs": [],
   "source": [
    "from pathlib import Path\n",
    "import matplotlib.pyplot as plt\n",
    "import librosa\n",
    "import torch\n",
    "import numpy as np\n",
    "from torch.utils.data import DataLoader\n",
    "import torch.nn as nn\n",
    "import torch.nn.functional as F\n",
    "import torch.optim as optim\n",
    "from tqdm import tqdm\n",
    "import h5py\n",
    "from pathlib import Path\n",
    "from torch.utils import data\n",
    "import logging\n",
    "from datetime import datetime\n",
    "from collections import Counter\n",
    "from sklearn.metrics import confusion_matrix,  ConfusionMatrixDisplay\n",
    "import pandas as pd"
   ]
  },
  {
   "cell_type": "code",
   "execution_count": 2,
   "id": "f47f3952",
   "metadata": {},
   "outputs": [],
   "source": [
    "# Device configuration\n",
    "device = torch.device('cuda' if torch.cuda.is_available() else 'cpu')"
   ]
  },
  {
   "cell_type": "code",
   "execution_count": 3,
   "id": "49062ccb",
   "metadata": {},
   "outputs": [],
   "source": [
    "# Hyper-parameters \n",
    "num_classes = 3\n",
    "input_size = 100\n",
    "sequence_length = 200\n",
    "hidden_size = 256\n",
    "num_layers = 1\n",
    "learning_rate = 0.001"
   ]
  },
  {
   "cell_type": "code",
   "execution_count": 4,
   "id": "2d937be7",
   "metadata": {},
   "outputs": [],
   "source": [
    "# Wrapping the dataset with load function\n",
    "class CustomDataset(data.Dataset):\n",
    "    def __init__(self, file_path, transform=None):\n",
    "        super().__init__()\n",
    "        self.train_data_cache = []\n",
    "        self.test_data_cache = []\n",
    "        self.manual_data_cache = []\n",
    "        self.full_test_data_cache = []\n",
    "        self.transform = transform\n",
    "        self.label_count = [0, 0, 0]\n",
    "        # Search for all h5 files\n",
    "        p = Path(file_path)\n",
    "        files = p.glob('rnn*.h5')\n",
    "        logging.debug(files)\n",
    "        for h5dataset_fp in files:\n",
    "            logging.debug(h5dataset_fp)\n",
    "            with h5py.File(h5dataset_fp.resolve()) as h5_file:\n",
    "                # Walk through all groups, extracting datasets\n",
    "                for gname, group in h5_file.items():\n",
    "                    k = 0\n",
    "                    j = 0\n",
    "                    l = 0\n",
    "                    print(gname)\n",
    "                    if gname == 'grenzflaeche':\n",
    "                        label = 0\n",
    "                    elif gname == 'spitze':\n",
    "                        label = 1\n",
    "\n",
    "                    logging.debug(group.items())\n",
    "                    for dname, ds in tqdm(group.items()):\n",
    "                        if k < 3000: #3000\n",
    "                            self.train_data_cache.append([label, torch.tensor(ds[:20000]).unsqueeze(0).type(torch.float32)])\n",
    "                            k += 1\n",
    "                        elif j < 400: # 400\n",
    "                            self.test_data_cache.append([label, torch.tensor(ds[:20000]).unsqueeze(0).type(torch.float32)])\n",
    "                            j += 1\n",
    "                        if k == 100 and j == 20:\n",
    "                            break\n",
    "                                \n",
    "    def __getitem__(self, index):\n",
    "        return self.data_cache[index]\n",
    "\n",
    "    def get_test_data(self):\n",
    "        return self.test_data_cache\n",
    "\n",
    "    def get_train_data(self):\n",
    "        return self.train_data_cache\n",
    "\n",
    "    def __len__(self):\n",
    "        return len(self.data_cache)"
   ]
  },
  {
   "cell_type": "code",
   "execution_count": 5,
   "id": "e1176af8",
   "metadata": {},
   "outputs": [
    {
     "name": "stdout",
     "output_type": "stream",
     "text": [
      "grenzflaeche\n"
     ]
    },
    {
     "name": "stderr",
     "output_type": "stream",
     "text": [
      "100%|█████████████████████████████████████| 4000/4000 [00:01<00:00, 3640.04it/s]\n"
     ]
    },
    {
     "name": "stdout",
     "output_type": "stream",
     "text": [
      "referenz\n"
     ]
    },
    {
     "name": "stderr",
     "output_type": "stream",
     "text": [
      "0it [00:00, ?it/s]\n"
     ]
    },
    {
     "name": "stdout",
     "output_type": "stream",
     "text": [
      "spitze\n"
     ]
    },
    {
     "name": "stderr",
     "output_type": "stream",
     "text": [
      "100%|█████████████████████████████████████| 3500/3500 [00:01<00:00, 3233.89it/s]\n"
     ]
    }
   ],
   "source": [
    "customData = CustomDataset(\"/home/marcus/Dokumente/entladung/\")"
   ]
  },
  {
   "cell_type": "code",
   "execution_count": 6,
   "id": "5156af39",
   "metadata": {},
   "outputs": [],
   "source": [
    "train_data = customData.get_train_data()\n",
    "test_data = customData.get_test_data()\n",
    "train_dataloader = DataLoader(train_data, batch_size=256, shuffle=True, pin_memory=False, num_workers=0)\n",
    "test_dataloader = DataLoader(test_data, batch_size=64, shuffle=True, pin_memory=False, num_workers=0)\n",
    "manual_dataloader = DataLoader(customData.manual_data_cache, batch_size=4, shuffle=False, pin_memory=False, num_workers=0)"
   ]
  },
  {
   "cell_type": "code",
   "execution_count": 7,
   "id": "a10d58cf",
   "metadata": {},
   "outputs": [],
   "source": [
    "# Fully connected neural network with one hidden layer\n",
    "class RNN(nn.Module):\n",
    "    def __init__(self, input_size, hidden_size, num_layers, num_classes):\n",
    "        super(RNN, self).__init__()\n",
    "        self.num_layers = num_layers\n",
    "        self.hidden_size = hidden_size\n",
    "        #self.rnn = nn.RNN(input_size, hidden_size, num_layers, batch_first=True)\n",
    "        # -> x needs to be: (batch_size, seq, input_size)\n",
    "        \n",
    "        # or:\n",
    "        #self.gru = nn.GRU(input_size, hidden_size, num_layers, batch_first=True)\n",
    "        self.lstm = nn.LSTM(input_size, hidden_size, num_layers, batch_first=True)\n",
    "        self.fc = nn.Linear(hidden_size, num_classes)\n",
    "        \n",
    "    def forward(self, x):\n",
    "        # Set initial hidden states (and cell states for LSTM)\n",
    "        h0 = torch.zeros(self.num_layers, x.size(0), self.hidden_size).to(device) \n",
    "        c0 = torch.zeros(self.num_layers, x.size(0), self.hidden_size).to(device) \n",
    "        \n",
    "        # x: (n, 28, 28), h0: (2, n, 128)\n",
    "        \n",
    "        # Forward propagate RNN\n",
    "        #out, _ = self.rnn(x, h0)  \n",
    "        # or:\n",
    "        out, _ = self.lstm(x, (h0,c0))  \n",
    "        \n",
    "        # out: tensor of shape (batch_size, seq_length, hidden_size)\n",
    "        # out: (n, 28, 128)\n",
    "        \n",
    "        # Decode the hidden state of the last time step\n",
    "        out = out[:, -1, :]\n",
    "        # out: (n, 128)\n",
    "         \n",
    "        out = self.fc(out)\n",
    "        # out: (n, 10)\n",
    "        return out"
   ]
  },
  {
   "cell_type": "code",
   "execution_count": 8,
   "id": "891e1d7b",
   "metadata": {},
   "outputs": [],
   "source": [
    "model = RNN(input_size, hidden_size, num_layers, num_classes).to(device)\n",
    "\n",
    "# Loss and optimizer\n",
    "criterion = nn.CrossEntropyLoss()\n",
    "optimizer = torch.optim.Adam(model.parameters(), lr=learning_rate)  "
   ]
  },
  {
   "cell_type": "code",
   "execution_count": 9,
   "id": "317d8fa5",
   "metadata": {},
   "outputs": [],
   "source": [
    "# the train loop\n",
    "def train(dataloader, optimizer, criterion, model):\n",
    "    model.train()\n",
    "    running_loss = 0.0\n",
    "    j = 0\n",
    "    loss_values = []\n",
    "    for i, data in enumerate(train_dataloader, 0):\n",
    "        # get the inputs; data is a list of [labels, inputs]\n",
    "\n",
    "        inputs = data[1]\n",
    "        inputs = inputs.reshape(-1, sequence_length, input_size).to(device)\n",
    "        labels = data[0]\n",
    "        labels = labels.to(device)\n",
    "        # zero the parameter gradients\n",
    "        optimizer.zero_grad()\n",
    "\n",
    "        # forward + backward + optimize\n",
    "        outputs = model(inputs)\n",
    "        loss = criterion(outputs, labels)\n",
    "        loss_values.append(loss.item())\n",
    "        loss.backward()\n",
    "        optimizer.step()\n",
    "\n",
    "        # log statistics\n",
    "        running_loss += loss.item()\n",
    "        if i % 500 == 499:\n",
    "            print(f\"[{epoch}]Loss: {running_loss / 500} \")\n",
    "        \n",
    "    print(f\"[{epoch}] Train Loss: {running_loss / (i+1)} \") \n",
    "    plt.plot(loss_values)"
   ]
  },
  {
   "cell_type": "code",
   "execution_count": 10,
   "id": "58b35a73",
   "metadata": {},
   "outputs": [],
   "source": [
    "# testing the accuracy on single 1024 snippets\n",
    "def split_test(dataloader,criterion, model):\n",
    "    size = len(dataloader.dataset)\n",
    "    num_batches = len(dataloader)\n",
    "    model.eval()\n",
    "    ACC = []\n",
    "    true = []\n",
    "    pred = []\n",
    "    right_pred = []\n",
    "    wrong_pred = []\n",
    "    test_loss, correct = 0, 0\n",
    "    with torch.no_grad():\n",
    "        for labels, inputs in dataloader:\n",
    "            labels, inputs = labels.to(device), inputs.reshape(-1, sequence_length, input_size).to(device)\n",
    "            outputs = model(inputs)\n",
    "            loss = criterion(outputs, labels)\n",
    "            test_loss += loss.item()\n",
    "            ACC.append((torch.argmax(outputs,axis=1)==labels).float().mean().item())\n",
    "            pred.extend(list((torch.argmax(outputs,axis=1).cpu().numpy())))\n",
    "            true.extend(list(labels.cpu().numpy()))\n",
    "            correct += (outputs.argmax(1) == labels).type(torch.float).sum().item()\n",
    "            for i, output in enumerate(outputs):\n",
    "                if output.argmax(0) != labels[i]:\n",
    "                    wrong_pred.append([inputs[i], labels[i], output])\n",
    "                elif output.argmax(0) == labels[i]:\n",
    "                    right_pred.append([inputs[i], labels[i], output])\n",
    "    test_loss /= num_batches\n",
    "    correct /= size\n",
    "    print(f\" Random Teilstück Error: Accuracy: {(100 * correct):>0.1f}%, Avg loss: {test_loss:>8f}\")\n",
    "    return confusion_matrix(true, pred), confusion_matrix(true, pred, normalize='true'), wrong_pred, right_pred\n",
    "\n"
   ]
  },
  {
   "cell_type": "code",
   "execution_count": 11,
   "id": "f5a1fb6b",
   "metadata": {
    "scrolled": true
   },
   "outputs": [
    {
     "name": "stdout",
     "output_type": "stream",
     "text": [
      "[0] Train Loss: 0.4157739548633496 \n",
      " Random Teilstück Error: Accuracy: 100.0%, Avg loss: 0.135785\n",
      "[1] Train Loss: 0.05382447530670712 \n",
      " Random Teilstück Error: Accuracy: 100.0%, Avg loss: 0.013386\n",
      "Finished Training\n"
     ]
    },
    {
     "data": {
      "image/png": "[encoded data removed]",
      "text/plain": [
       "<Figure size 432x288 with 1 Axes>"
      ]
     },
     "metadata": {
      "needs_background": "light"
     },
     "output_type": "display_data"
    },
    {
     "data": {
      "image/png": "[encoded data removed]",
      "text/plain": [
       "<Figure size 432x288 with 2 Axes>"
      ]
     },
     "metadata": {
      "needs_background": "light"
     },
     "output_type": "display_data"
    },
    {
     "data": {
      "image/png": "[encoded data removed]",
      "text/plain": [
       "<Figure size 432x288 with 2 Axes>"
      ]
     },
     "metadata": {
      "needs_background": "light"
     },
     "output_type": "display_data"
    }
   ],
   "source": [
    "# training loop\n",
    "for epoch in range(2):  # loop over the dataset multiple times\n",
    "    loss_values=train(train_dataloader, optimizer, criterion, model)\n",
    "    CM=split_test(test_dataloader, criterion, model)\n",
    "print('Finished Training')\n",
    "\n",
    "disp = ConfusionMatrixDisplay(confusion_matrix=CM[0],display_labels=[0, 1])\n",
    "disp.plot()\n",
    "plt.show()\n",
    "disp = ConfusionMatrixDisplay(confusion_matrix=CM[1],display_labels=[0, 1])\n",
    "disp.plot()\n",
    "plt.show()"
   ]
  },
  {
   "cell_type": "code",
   "execution_count": 12,
   "id": "27a1d803",
   "metadata": {},
   "outputs": [
    {
     "name": "stdout",
     "output_type": "stream",
     "text": [
      "367363\n"
     ]
    }
   ],
   "source": [
    "total_params = sum(p.numel() for p in model.parameters() if p.requires_grad)\n",
    "print(total_params)"
   ]
  },
  {
   "cell_type": "code",
   "execution_count": null,
   "id": "8d478f35",
   "metadata": {},
   "outputs": [],
   "source": []
  }
 ],
 "metadata": {
  "kernelspec": {
   "display_name": "entladung",
   "language": "python",
   "name": "entladung"
  },
  "language_info": {
   "codemirror_mode": {
    "name": "ipython",
    "version": 3
   },
   "file_extension": ".py",
   "mimetype": "text/x-python",
   "name": "python",
   "nbconvert_exporter": "python",
   "pygments_lexer": "ipython3",
   "version": "3.9.7"
  }
 },
 "nbformat": 4,
 "nbformat_minor": 5
}

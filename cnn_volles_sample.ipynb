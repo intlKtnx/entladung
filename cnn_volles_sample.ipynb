{
 "cells": [
  {
   "cell_type": "code",
   "execution_count": 1,
   "id": "d550625c",
   "metadata": {},
   "outputs": [],
   "source": [
    "from pathlib import Path\n",
    "import matplotlib.pyplot as plt\n",
    "import torch\n",
    "import numpy as np\n",
    "from torch.utils.data import DataLoader\n",
    "import torch.nn as nn\n",
    "import torch.nn.functional as F\n",
    "import torch.optim as optim\n",
    "from tqdm import tqdm\n",
    "import h5py\n",
    "from pathlib import Path\n",
    "from torch.utils import data\n",
    "import logging\n",
    "from datetime import datetime\n",
    "from collections import Counter\n",
    "from sklearn.metrics import confusion_matrix,  ConfusionMatrixDisplay\n",
    "import pandas as pd"
   ]
  },
  {
   "cell_type": "code",
   "execution_count": 2,
   "id": "8694bcbd",
   "metadata": {},
   "outputs": [],
   "source": [
    "# Wrapping the dataset with load function\n",
    "class CustomDataset(data.Dataset):\n",
    "    def __init__(self, file_path, transform=None):\n",
    "        super().__init__()\n",
    "        self.train_data_cache = []\n",
    "        self.test_data_cache = []\n",
    "        self.manual_data_cache = []\n",
    "        self.full_test_data_cache = []\n",
    "        self.transform = transform\n",
    "        self.label_count = [0, 0, 0]\n",
    "        # Search for all h5 files\n",
    "        p = Path(file_path)\n",
    "        files = p.glob('*.h5')\n",
    "        logging.debug(files)\n",
    "        for h5dataset_fp in files:\n",
    "            logging.debug(h5dataset_fp)\n",
    "            with h5py.File(h5dataset_fp.resolve()) as h5_file:\n",
    "                # Walk through all groups, extracting datasets\n",
    "                for gname, group in h5_file.items():\n",
    "                    k = 0\n",
    "                    j = 0\n",
    "                    l = 0\n",
    "                    print(gname)\n",
    "                    if gname == 'neg_grenzflaeche':\n",
    "                        label = 0\n",
    "                    elif gname == 'neg_spitze':\n",
    "                        label = 1\n",
    "                    elif gname == 'pos_grenzflaeche':\n",
    "                        label = 2\n",
    "                    elif gname == 'pos_spitze':\n",
    "                        label = 3\n",
    "\n",
    "                    logging.debug(group.items())\n",
    "                    for dname, ds in tqdm(group.items()):\n",
    "                        if k < 2501: #3000\n",
    "                            self.train_data_cache.append([label, torch.tensor(ds[:20000]).unsqueeze(0).type(torch.float32)])\n",
    "                            k += 1\n",
    "                        elif j < 401: # 400\n",
    "                            self.test_data_cache.append([label, torch.tensor(ds[:20000]).unsqueeze(0).type(torch.float32)])\n",
    "                            j += 1\n",
    "                        if k == 2500 and j == 400:\n",
    "                            break\n",
    "                                \n",
    "    def __getitem__(self, index):\n",
    "        return self.data_cache[index]\n",
    "\n",
    "    def get_test_data(self):\n",
    "        return self.test_data_cache\n",
    "\n",
    "    def get_train_data(self):\n",
    "        return self.train_data_cache\n",
    "\n",
    "    def __len__(self):\n",
    "        return len(self.data_cache)"
   ]
  },
  {
   "cell_type": "code",
   "execution_count": 3,
   "id": "c43ba60f",
   "metadata": {},
   "outputs": [],
   "source": [
    "# Defining the network\n",
    "class Network(nn.Module):\n",
    "    def __init__(self):\n",
    "        super(Network, self).__init__()\n",
    "        self.conv1 = nn.Conv1d(1, 2, kernel_size=3, padding=1, stride=2)\n",
    "        self.conv2 = nn.Conv1d(2, 4, kernel_size=3, padding=1, stride=2)\n",
    "        self.conv3 = nn.Conv1d(4, 8, kernel_size=3, padding=1)\n",
    "        self.conv4 = nn.Conv1d(8, 16, kernel_size=3, padding=1)  # endsize 1536 maxpool 3\n",
    "        # self.conv5 = nn.Conv1d(128, 256, kernel_size=3, padding=1) #endsize 1024 maxpool 3\n",
    "        # self.conv6 = nn.Conv1d(256, 512, kernel_size=3, padding=1) # endsize 512 maxpool 3\n",
    "\n",
    "        self.fc1 = nn.Linear(128, 4) #input 1000 / 4 384//8\n",
    "\n",
    "    def forward(self, x):\n",
    "        x = F.max_pool1d(F.relu(self.conv1(x)), 5)\n",
    "        x = F.max_pool1d(F.relu(self.conv2(x)), 5)\n",
    "        x = F.max_pool1d(F.relu(self.conv3(x)), 5)\n",
    "        x = F.max_pool1d(F.relu(self.conv4(x)), 5)\n",
    "        # x = F.max_pool1d(F.relu(self.conv5(x)),3)\n",
    "        # x = F.max_pool1d(F.relu(self.conv6(x)),3)\n",
    "        #logging.debug(x.shape)\n",
    "        x = torch.flatten(x, 1)\n",
    "        #logging.debug(x.shape)\n",
    "        x = F.softmax(self.fc1(x), dim=1)\n",
    "\n",
    "        return x"
   ]
  },
  {
   "cell_type": "code",
   "execution_count": 4,
   "id": "3772bbb0",
   "metadata": {},
   "outputs": [
    {
     "name": "stdout",
     "output_type": "stream",
     "text": [
      "neg_grenzflaeche\n"
     ]
    },
    {
     "name": "stderr",
     "output_type": "stream",
     "text": [
      "100%|█████████████████████████████████████| 3500/3500 [00:01<00:00, 3225.83it/s]\n"
     ]
    },
    {
     "name": "stdout",
     "output_type": "stream",
     "text": [
      "neg_spitze\n"
     ]
    },
    {
     "name": "stderr",
     "output_type": "stream",
     "text": [
      "100%|█████████████████████████████████████| 4000/4000 [00:01<00:00, 3573.34it/s]\n"
     ]
    },
    {
     "name": "stdout",
     "output_type": "stream",
     "text": [
      "pos_grenzflaeche\n"
     ]
    },
    {
     "name": "stderr",
     "output_type": "stream",
     "text": [
      "100%|█████████████████████████████████████| 3500/3500 [00:01<00:00, 3157.82it/s]\n"
     ]
    },
    {
     "name": "stdout",
     "output_type": "stream",
     "text": [
      "pos_spitze\n"
     ]
    },
    {
     "name": "stderr",
     "output_type": "stream",
     "text": [
      "100%|█████████████████████████████████████| 3000/3000 [00:01<00:00, 2820.62it/s]\n"
     ]
    }
   ],
   "source": [
    "# loading the data\n",
    "customData = CustomDataset(\"/home/marcus/Dokumente/entladung/\")"
   ]
  },
  {
   "cell_type": "code",
   "execution_count": 5,
   "id": "95f6ffbd",
   "metadata": {},
   "outputs": [],
   "source": [
    "\n",
    "# the train loop\n",
    "def train(dataloader, optimizer, criterion, model):\n",
    "    model.train()\n",
    "    running_loss = 0.0\n",
    "    j = 0\n",
    "    loss_values = []\n",
    "    for i, data in enumerate(train_dataloader, 0):\n",
    "        # get the inputs; data is a list of [labels, inputs]\n",
    "\n",
    "        inputs = data[1]\n",
    "        labels = data[0]\n",
    "        inputs = inputs.to(device)\n",
    "        labels = labels.to(device)\n",
    "        # zero the parameter gradients\n",
    "        optimizer.zero_grad()\n",
    "\n",
    "        # forward + backward + optimize\n",
    "        outputs = model(inputs)\n",
    "        loss = criterion(outputs, labels)\n",
    "        loss_values.append(loss.item())\n",
    "        loss.backward()\n",
    "        optimizer.step()\n",
    "\n",
    "        # log statistics\n",
    "        running_loss += loss.item()\n",
    "        if i % 500 == 499:\n",
    "            print(f\"[{epoch}]Loss: {running_loss / 500} \")\n",
    "        \n",
    "    print(f\"[{epoch}] Train Loss: {running_loss / (i+1)} \") \n",
    "    plt.plot(loss_values)"
   ]
  },
  {
   "cell_type": "code",
   "execution_count": 6,
   "id": "8e3fa49d",
   "metadata": {},
   "outputs": [],
   "source": [
    "# testing the accuracy on single 1024 snippets\n",
    "def split_test(dataloader,criterion, model):\n",
    "    size = len(dataloader.dataset)\n",
    "    num_batches = len(dataloader)\n",
    "    model.eval()\n",
    "    ACC = []\n",
    "    true = []\n",
    "    pred = []\n",
    "    right_pred = []\n",
    "    wrong_pred = []\n",
    "    test_loss, correct = 0, 0\n",
    "    with torch.no_grad():\n",
    "        for labels, inputs in dataloader:\n",
    "            labels, inputs = labels.to(device), inputs.to(device)\n",
    "            outputs = model(inputs)\n",
    "            loss = criterion(outputs, labels)\n",
    "            test_loss += loss.item()\n",
    "            ACC.append((torch.argmax(outputs,axis=1)==labels).float().mean().item())\n",
    "            pred.extend(list((torch.argmax(outputs,axis=1).cpu().numpy())))\n",
    "            true.extend(list(labels.cpu().numpy()))\n",
    "            correct += (outputs.argmax(1) == labels).type(torch.float).sum().item()\n",
    "            for i, output in enumerate(outputs):\n",
    "                if output.argmax(0) != labels[i]:\n",
    "                    wrong_pred.append([inputs[i], labels[i], output])\n",
    "                elif output.argmax(0) == labels[i]:\n",
    "                    right_pred.append([inputs[i], labels[i], output])\n",
    "    test_loss /= num_batches\n",
    "    correct /= size\n",
    "    print(f\" Random Teilstück Error: Accuracy: {(100 * correct):>0.1f}%, Avg loss: {test_loss:>8f}\")\n",
    "    return confusion_matrix(true, pred), confusion_matrix(true, pred, normalize='true'), wrong_pred, right_pred\n",
    "\n"
   ]
  },
  {
   "cell_type": "code",
   "execution_count": 7,
   "id": "42030a80",
   "metadata": {},
   "outputs": [],
   "source": [
    "def test_complete(dataloader, optimizer, criterion, model):\n",
    "    model.eval()\n",
    "    num_batches = len(dataloader)\n",
    "    size = len(dataloader.dataset)\n",
    "    correct = 0\n",
    "    ACC = []\n",
    "    true = []\n",
    "    pred = []\n",
    "    with torch.no_grad():\n",
    "        for labels, inputs in dataloader:\n",
    "            labels = labels.to(device)\n",
    "            outputs = np.array([])\n",
    "            for sample in inputs:\n",
    "                #splitted_input = torch.reshape(sample, (4, 250)).unsqueeze(0).to(device)\n",
    "                splitted_input \n",
    "                splitted_output = model(splitted_input)\n",
    "                answer_count = np.array([0,0,0])\n",
    "                for i in splitted_output:\n",
    "                    answer_count[i.argmax(0)] += 1\n",
    "                #print(answer_count, answer_count.sum())\n",
    "                outputs = np.append(outputs, answer_count.argmax(0))\n",
    "                ACC.append((torch.argmax(outputs,axis=1)==labels).float().mean().item())\n",
    "                pred.extend(list((torch.argmax(outputs,axis=1).cpu().numpy())))\n",
    "                true.extend(list(labels.cpu().numpy()))\n",
    "            for i in range(len(outputs)):\n",
    "                if outputs[i] == labels[i]:\n",
    "                    correct += 1\n",
    "            #correct += (outputs == labels).type(torch.float).sum().item()\n",
    "    correct /= size\n",
    "    print(f\"Full Sample Error: Accuracy: {(100*correct):>0.1f}%\")\n",
    "    return confusion_matrix(true, pred), confusion_matrix(true, pred, normalize='true')"
   ]
  },
  {
   "cell_type": "code",
   "execution_count": 8,
   "id": "99bcb720",
   "metadata": {},
   "outputs": [
    {
     "name": "stdout",
     "output_type": "stream",
     "text": [
      "Using cuda device\n"
     ]
    }
   ],
   "source": [
    "# looking for cuda device and selecting it if possible\n",
    "device = 'cuda' if torch.cuda.is_available() else 'cpu'\n",
    "print('Using {} device'.format(device))"
   ]
  },
  {
   "cell_type": "code",
   "execution_count": 9,
   "id": "4127cc14",
   "metadata": {},
   "outputs": [
    {
     "name": "stdout",
     "output_type": "stream",
     "text": [
      "Network(\n",
      "  (conv1): Conv1d(1, 2, kernel_size=(3,), stride=(2,), padding=(1,))\n",
      "  (conv2): Conv1d(2, 4, kernel_size=(3,), stride=(2,), padding=(1,))\n",
      "  (conv3): Conv1d(4, 8, kernel_size=(3,), stride=(1,), padding=(1,))\n",
      "  (conv4): Conv1d(8, 16, kernel_size=(3,), stride=(1,), padding=(1,))\n",
      "  (fc1): Linear(in_features=128, out_features=4, bias=True)\n",
      ")\n",
      "1056\n"
     ]
    }
   ],
   "source": [
    "# defining the model and moving it to the correct device\n",
    "model = Network().to(device)\n",
    "print(model)\n",
    "total_params = sum(p.numel() for p in model.parameters() if p.requires_grad)\n",
    "print(total_params)"
   ]
  },
  {
   "cell_type": "code",
   "execution_count": 10,
   "id": "29ed711f",
   "metadata": {},
   "outputs": [],
   "source": [
    "# defining loss and optimizer\n",
    "criterion = nn.CrossEntropyLoss()\n",
    "optimizer = optim.Adam(model.parameters(), lr=0.001)"
   ]
  },
  {
   "cell_type": "code",
   "execution_count": 11,
   "id": "f671b27f",
   "metadata": {},
   "outputs": [],
   "source": [
    "# defining train and test sets\n",
    "train_data = customData.get_train_data()\n",
    "test_data = customData.get_test_data()\n",
    "train_dataloader = DataLoader(train_data, batch_size=256, shuffle=True, pin_memory=False, num_workers=0)\n",
    "test_dataloader = DataLoader(test_data, batch_size=64, shuffle=True, pin_memory=False, num_workers=0)"
   ]
  },
  {
   "cell_type": "code",
   "execution_count": 12,
   "id": "fc8cb51b-f63d-4fb0-a50d-8329714f4dbb",
   "metadata": {},
   "outputs": [
    {
     "name": "stdout",
     "output_type": "stream",
     "text": [
      "dict_keys([0, 1, 2, 3])\n",
      "dict_values([2501, 2501, 2501, 2501])\n"
     ]
    }
   ],
   "source": [
    "\n",
    "cache=[]\n",
    "for i, val in enumerate( train_data):\n",
    "        train_data[i][0]\n",
    "        cache.append(train_data[i][0])\n",
    "    \n",
    "print(Counter(cache).keys())\n",
    "print(Counter(cache).values())"
   ]
  },
  {
   "cell_type": "code",
   "execution_count": 13,
   "id": "1641ee5f",
   "metadata": {},
   "outputs": [
    {
     "name": "stdout",
     "output_type": "stream",
     "text": [
      "dict_keys([0, 1, 2, 3])\n",
      "dict_values([401, 401, 401, 401])\n"
     ]
    }
   ],
   "source": [
    "cache=[]\n",
    "for i, val in enumerate( test_data):\n",
    "        test_data[i][0]\n",
    "        cache.append(test_data[i][0])\n",
    "    \n",
    "print(Counter(cache).keys())\n",
    "print(Counter(cache).values())"
   ]
  },
  {
   "cell_type": "code",
   "execution_count": 14,
   "id": "2ab9d735-8b75-47d6-ab4b-663cb2021d57",
   "metadata": {
    "scrolled": false
   },
   "outputs": [
    {
     "name": "stdout",
     "output_type": "stream",
     "text": [
      "[0] Train Loss: 1.2296074777841568 \n",
      " Random Teilstück Error: Accuracy: 62.8%, Avg loss: 1.092509\n",
      "[1] Train Loss: 0.948014959692955 \n",
      " Random Teilstück Error: Accuracy: 98.1%, Avg loss: 0.806812\n",
      "[2] Train Loss: 0.77700305134058 \n",
      " Random Teilstück Error: Accuracy: 99.1%, Avg loss: 0.760215\n",
      "[3] Train Loss: 0.7592947110533714 \n",
      " Random Teilstück Error: Accuracy: 99.2%, Avg loss: 0.754927\n",
      "[4] Train Loss: 0.7554265290498734 \n",
      " Random Teilstück Error: Accuracy: 99.2%, Avg loss: 0.753502\n",
      "[5] Train Loss: 0.7536904364824295 \n",
      " Random Teilstück Error: Accuracy: 99.3%, Avg loss: 0.755055\n",
      "[6] Train Loss: 0.7523724004626274 \n",
      " Random Teilstück Error: Accuracy: 99.4%, Avg loss: 0.750618\n",
      "[7] Train Loss: 0.7509831309318542 \n",
      " Random Teilstück Error: Accuracy: 99.4%, Avg loss: 0.750059\n",
      "[8] Train Loss: 0.7499589115381241 \n",
      " Random Teilstück Error: Accuracy: 99.5%, Avg loss: 0.749692\n",
      "[9] Train Loss: 0.749610623717308 \n",
      " Random Teilstück Error: Accuracy: 99.6%, Avg loss: 0.748727\n",
      "Finished Training\n"
     ]
    },
    {
     "data": {
      "image/png": "[encoded data removed]",
      "text/plain": [
       "<Figure size 432x288 with 1 Axes>"
      ]
     },
     "metadata": {
      "needs_background": "light"
     },
     "output_type": "display_data"
    },
    {
     "data": {
      "image/png": "[encoded data removed]",
      "text/plain": [
       "<Figure size 432x288 with 2 Axes>"
      ]
     },
     "metadata": {
      "needs_background": "light"
     },
     "output_type": "display_data"
    },
    {
     "data": {
      "image/png": "[encoded data removed]",
      "text/plain": [
       "<Figure size 432x288 with 2 Axes>"
      ]
     },
     "metadata": {
      "needs_background": "light"
     },
     "output_type": "display_data"
    }
   ],
   "source": [
    "# training loop\n",
    "for epoch in range(10):  # loop over the dataset multiple times\n",
    "    loss_values=train(train_dataloader, optimizer, criterion, model)\n",
    "    CM=split_test(test_dataloader, criterion, model)\n",
    "    #CM2=test_complete(test_dataloader, optimizer, criterion, model)\n",
    "print('Finished Training')\n",
    "#print(CM[0])\n",
    "\n",
    "disp = ConfusionMatrixDisplay(confusion_matrix=CM[0],display_labels=[0, 1, 2, 3])\n",
    "disp.plot()\n",
    "plt.show()\n",
    "disp = ConfusionMatrixDisplay(confusion_matrix=CM[1],display_labels=[0, 1, 2, 3])\n",
    "disp.plot()\n",
    "plt.show()\n",
    "\n",
    "\n",
    "\n",
    "\n",
    "\n"
   ]
  },
  {
   "cell_type": "code",
   "execution_count": 15,
   "id": "4a5b2541",
   "metadata": {},
   "outputs": [],
   "source": [
    "#model.eval()\n",
    "#for labels, inputs in manual_dataloader:\n",
    "#    inputs = inputs.to(device)\n",
    "#    labels = labels.to(device)\n",
    "#    logging.debug(model(inputs), labels)\n"
   ]
  },
  {
   "cell_type": "code",
   "execution_count": 16,
   "id": "8ed44a72",
   "metadata": {},
   "outputs": [],
   "source": [
    "#seed = np.random.get_state()\n",
    "#print(seed[1])\n",
    "#df = pd.DataFrame(data = seed[1])\n",
    "#df.to_csv(\"entladung_randomseed3.csv\")"
   ]
  },
  {
   "cell_type": "code",
   "execution_count": 17,
   "id": "5247fa05",
   "metadata": {},
   "outputs": [],
   "source": [
    "#torch.save(model.state_dict(), \"/home/marcus/Dokumente/entladung/best_model\")"
   ]
  },
  {
   "cell_type": "code",
   "execution_count": null,
   "id": "32dd6ced",
   "metadata": {},
   "outputs": [],
   "source": []
  }
 ],
 "metadata": {
  "kernelspec": {
   "display_name": "entladung",
   "language": "python",
   "name": "entladung"
  },
  "language_info": {
   "codemirror_mode": {
    "name": "ipython",
    "version": 3
   },
   "file_extension": ".py",
   "mimetype": "text/x-python",
   "name": "python",
   "nbconvert_exporter": "python",
   "pygments_lexer": "ipython3",
   "version": "3.9.7"
  }
 },
 "nbformat": 4,
 "nbformat_minor": 5
}
